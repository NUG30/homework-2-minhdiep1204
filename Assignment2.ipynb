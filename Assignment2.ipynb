{
  "nbformat": 4,
  "nbformat_minor": 0,
  "metadata": {
    "colab": {
      "name": "Assignment2.ipynb",
      "provenance": [],
      "collapsed_sections": [],
      "include_colab_link": true
    },
    "kernelspec": {
      "name": "python3",
      "display_name": "Python 3"
    }
  },
  "cells": [
    {
      "cell_type": "markdown",
      "metadata": {
        "id": "view-in-github",
        "colab_type": "text"
      },
      "source": [
        "<a href=\"https://colab.research.google.com/github/NUG30/homework-2-minhdiep1204/blob/main/Assignment2.ipynb\" target=\"_parent\"><img src=\"https://colab.research.google.com/assets/colab-badge.svg\" alt=\"Open In Colab\"/></a>"
      ]
    },
    {
      "cell_type": "markdown",
      "metadata": {
        "id": "hwTPfD-_mGwe"
      },
      "source": [
        "# Homework 2: Naive Bayes Email Spam Filter\n",
        "\n",
        "In this homework, we will learn how to implement the Naive Bayes classifier in order to create a simple email spam filter. This spam filter will be trained by test_emails, which will be given by a vector of tuples (emails, spam/nospam). For each tuple the first entry is a string (\"email\"), and the second entry is 0 or 1, depending whether the email contains spam words."
      ]
    },
    {
      "cell_type": "code",
      "metadata": {
        "id": "LcYY9uEZ8NNA"
      },
      "source": [
        "dictionary = ['hello', 'students', 'please', 'learn', 'for', 'the', 'exam', 'buy', 'drugs', 'today', 'sun', 'is', 'shining', 'in', 'nagoya', 'lets', 'sell', 'how', 'are', 'you', 'today?', 'do', 'your', 'homework', 'want', 'free', 'solutions?', 'hey', 'always', 'ask', 'questions', 'if','have', 'any', 'math', 'not', 'good', 'submit', 'pay'] \n",
        "\n",
        "test_emails=[\n",
        "             [\"hello students, please learn for the exam\", 0],\n",
        "             [\"hello students, please buy drugs\", 1],    \n",
        "             [\"hello, today the sun is shining in nagoya\", 0],\n",
        "             [\"lets sell drugs in nagoya\", 1],\n",
        "             [\"today learn drugs\", 1],\n",
        "             [\"how are you today?\", 0],\n",
        "             [\"hello students, please do your homework\", 0],\n",
        "             [\"hello, do you want free homework solutions?\", 1],\n",
        "             [\"hey students, please always ask questions if you have any\", 0],\n",
        "             [\"math is not good\", 1],\n",
        "             [\"math is good\", 0],\n",
        "             [\"please submit your homework\", 0],\n",
        "             [\"please buy questions\", 1],\n",
        "             [\"please pay for the exam\", 1]          \n",
        "             ]"
      ],
      "execution_count": 1,
      "outputs": []
    },
    {
      "cell_type": "markdown",
      "metadata": {
        "id": "-7_jFoKsHlXZ"
      },
      "source": [
        "The feature space for our spam filter will be $\\mathcal{X}=\\{0,1\\}^d$, where $d$ denotes the number of words in the dictionary. For a feature (email) $x \\in \\mathcal{X}$ the entry $x_i$ for $i=1,\\dots,d$ is $1$ if the $i$-th word of the dictionary is contained in the email and $0$ otherwise.  "
      ]
    },
    {
      "cell_type": "markdown",
      "metadata": {
        "id": "ihFEvEcCHI6y"
      },
      "source": [
        "# **Exercise 1**\n",
        "Implement a function which creates a feature vector out of an email and a function which creates a training set out of test emails. \n",
        "\n",
        "You would need to figure out whether a sentence contains a word, and there are functions in Python that could determine whether a string contains another string. You can consult documentation (and Google) to find out."
      ]
    },
    {
      "cell_type": "code",
      "metadata": {
        "id": "YcrE1LTy8mjy",
        "colab": {
          "base_uri": "https://localhost:8080/"
        },
        "outputId": "522bf5f7-b83a-4875-e9b2-45aafc59a895"
      },
      "source": [
        "import numpy as np\n",
        "def email_to_feature(dict, email):\n",
        "  d = len(dict)\n",
        "  x = np.zeros(d)\n",
        "  for i in range(d):\n",
        "    if dict[i] in email:\n",
        "      x[i] = 1\n",
        "  return x\n",
        "\n",
        "print(email_to_feature(dictionary, test_emails[1][0]))\n",
        "\n",
        "def emails_to_test_samples(dict, test_emails):\n",
        "  T = test_emails\n",
        "  n = len (test_emails)\n",
        "  for i in range (n):\n",
        "    T[i][0] = email_to_feature(dict, test_emails[i][0])\n",
        "  return T\n",
        "\n",
        "print (emails_to_test_samples(dictionary, test_emails))"
      ],
      "execution_count": null,
      "outputs": [
        {
          "output_type": "stream",
          "text": [
            "[1. 1. 1. 0. 0. 0. 0. 1. 1. 0. 0. 0. 0. 0. 0. 0. 0. 0. 0. 0. 0. 0. 0. 0.\n",
            " 0. 0. 0. 0. 0. 0. 0. 0. 0. 0. 0. 0. 0. 0. 0.]\n",
            "[[array([1., 1., 1., 1., 1., 1., 1., 0., 0., 0., 0., 0., 0., 0., 0., 0., 0.,\n",
            "       0., 0., 0., 0., 0., 0., 0., 0., 0., 0., 0., 0., 0., 0., 0., 0., 0.,\n",
            "       0., 0., 0., 0., 0.]), 0], [array([1., 1., 1., 0., 0., 0., 0., 1., 1., 0., 0., 0., 0., 0., 0., 0., 0.,\n",
            "       0., 0., 0., 0., 0., 0., 0., 0., 0., 0., 0., 0., 0., 0., 0., 0., 0.,\n",
            "       0., 0., 0., 0., 0.]), 1], [array([1., 0., 0., 0., 0., 1., 0., 0., 0., 1., 1., 1., 1., 1., 1., 0., 0.,\n",
            "       0., 0., 0., 0., 0., 0., 0., 0., 0., 0., 0., 0., 0., 0., 0., 0., 0.,\n",
            "       0., 0., 0., 0., 0.]), 0], [array([0., 0., 0., 0., 0., 0., 0., 0., 1., 0., 0., 0., 0., 1., 1., 1., 1.,\n",
            "       0., 0., 0., 0., 0., 0., 0., 0., 0., 0., 0., 0., 0., 0., 0., 0., 0.,\n",
            "       0., 0., 0., 0., 0.]), 1], [array([0., 0., 0., 1., 0., 0., 0., 0., 1., 1., 0., 0., 0., 0., 0., 0., 0.,\n",
            "       0., 0., 0., 0., 0., 0., 0., 0., 0., 0., 0., 0., 0., 0., 0., 0., 0.,\n",
            "       0., 0., 0., 0., 0.]), 1], [array([0., 0., 0., 0., 0., 0., 0., 0., 0., 1., 0., 0., 0., 0., 0., 0., 0.,\n",
            "       1., 1., 1., 1., 0., 0., 0., 0., 0., 0., 0., 0., 0., 0., 0., 0., 0.,\n",
            "       0., 0., 0., 0., 0.]), 0], [array([1., 1., 1., 0., 0., 0., 0., 0., 0., 0., 0., 0., 0., 0., 0., 0., 0.,\n",
            "       0., 0., 1., 0., 1., 1., 1., 0., 0., 0., 0., 0., 0., 0., 0., 0., 0.,\n",
            "       0., 0., 0., 0., 0.]), 0], [array([1., 0., 0., 0., 0., 0., 0., 0., 0., 0., 0., 0., 0., 0., 0., 0., 0.,\n",
            "       0., 0., 1., 0., 1., 0., 1., 1., 1., 1., 0., 0., 0., 0., 0., 0., 0.,\n",
            "       0., 0., 0., 0., 0.]), 1], [array([0., 1., 1., 0., 0., 0., 0., 0., 0., 0., 0., 0., 0., 0., 0., 0., 0.,\n",
            "       0., 0., 1., 0., 0., 0., 0., 0., 0., 0., 1., 1., 1., 1., 1., 1., 1.,\n",
            "       0., 0., 0., 0., 0.]), 0], [array([0., 0., 0., 0., 0., 0., 0., 0., 0., 0., 0., 1., 0., 0., 0., 0., 0.,\n",
            "       0., 0., 0., 0., 0., 0., 0., 0., 0., 0., 0., 0., 0., 0., 0., 0., 0.,\n",
            "       1., 1., 1., 0., 0.]), 1], [array([0., 0., 0., 0., 0., 0., 0., 0., 0., 0., 0., 1., 0., 0., 0., 0., 0.,\n",
            "       0., 0., 0., 0., 0., 0., 0., 0., 0., 0., 0., 0., 0., 0., 0., 0., 0.,\n",
            "       1., 0., 1., 0., 0.]), 0], [array([0., 0., 1., 0., 0., 0., 0., 0., 0., 0., 0., 0., 0., 0., 0., 0., 0.,\n",
            "       0., 0., 1., 0., 0., 1., 1., 0., 0., 0., 0., 0., 0., 0., 0., 0., 0.,\n",
            "       0., 0., 0., 1., 0.]), 0], [array([0., 0., 1., 0., 0., 0., 0., 1., 0., 0., 0., 0., 0., 0., 0., 0., 0.,\n",
            "       0., 0., 0., 0., 0., 0., 0., 0., 0., 0., 0., 0., 0., 1., 0., 0., 0.,\n",
            "       0., 0., 0., 0., 0.]), 1], [array([0., 0., 1., 0., 1., 1., 1., 0., 0., 0., 0., 0., 0., 0., 0., 0., 0.,\n",
            "       0., 0., 0., 0., 0., 0., 0., 0., 0., 0., 0., 0., 0., 0., 0., 0., 0.,\n",
            "       0., 0., 0., 0., 1.]), 1]]\n"
          ],
          "name": "stdout"
        }
      ]
    },
    {
      "cell_type": "markdown",
      "metadata": {
        "id": "DzUtdPFZ_1vR"
      },
      "source": [
        " **Recall from Lecture 6:**\n",
        "\n",
        "Given a training set  $\\mathcal{T} = \\left( (x^{(1)}, y^{(1)}) , \\dots, (x^{(n)}, y^{(n)})   \\right)$ we calculate for $i=1,\\dots,d$ the following numbers\n",
        "\\begin{align*}\n",
        "\\phi_{i\\mid y=1} &= \\frac{1+\\sum_{j=1}^n I(x^{(j)}_i = 1  \\,\\wedge \\, y^{(j)}=1 ) }{2+\\sum_{j=1}^n I(y^{(j)}=1)}\\,,\\\\\n",
        "\t\\phi_{i\\mid y=0} &= \\frac{1+\\sum_{j=1}^n I(x^{(j)}_i = 1  \\,\\wedge \\, y^{(j)}=0 )}{2+\\sum_{j=1}^n I(y^{(j)}=0)}\\,,\\\\\n",
        "\t\t\\phi_{y=1} &= \\frac{1+\\sum_{j=1}^n I(y^{(j)} = 1)}{2+n} \\,.\n",
        "\\end{align*}\n",
        "Here $I$ denoted the indicator function. We used the laplace smoothing (thats why we have the $1+$ and $2+$) in order to make sure that we will not assume probability $0$ for unknown words.\n",
        "\n",
        "Now assume we get a new feature (i.e. someone sends us an email) $x \\in \\{0,1\\}^d$. Then we can calculate for each word $i=1,\\dots,d$ the probabilities\n",
        "\\begin{align*}\n",
        "P(x_i = 1 \\mid y=1) &= \\phi_{i\\mid y=1}\\,,\\qquad &&P(x_i = 1 \\mid y=0) = \\phi_{i\\mid y=0} \\,,\\\\\n",
        "P(x_i = 0 \\mid y=1) &= 1- \\phi_{i\\mid y=1}\\,,\\qquad &&P(x_i = 0 \\mid y=0) = 1-\\phi_{i\\mid y=0} \\,. \\\\\n",
        "\\end{align*}\n",
        "\n",
        "By the Naive Bayes assumption we have for $x \\in \\{0,1\\}^d$\n",
        "\\begin{align*}\n",
        "P(x \\mid y)  = \\prod_{i=1}^d P(x_j \\mid y)\\,.\n",
        "\\end{align*}\n",
        "The probability of the new email being spam is then\n",
        "\\begin{align*}\n",
        "P(y=1 \\mid x) &= \\frac{ P(x \\mid y=1) P(y=1)}{P(x)}\\\\\n",
        "&= \\frac{\\prod_{i=1}^d P(x_i \\mid y = 1) \\cdot \\phi_{y=1}}{\\prod_{i=1}^d P(x_i \\mid y = 1) \\cdot \\phi_{y=1} + \\prod_{i=1}^d P(x_i \\mid y = 0) (1-\\phi_{y=1})}\\,.\n",
        "\\end{align*}\n"
      ]
    },
    {
      "cell_type": "markdown",
      "metadata": {
        "id": "3KdBdWJQINbe"
      },
      "source": [
        "# **Exercise 2:** \n",
        "Use the above explanation of the Naive Bayes Spam filter and implement a function which gives the probability of an email being spam given the trainings email above. \n"
      ]
    },
    {
      "cell_type": "code",
      "metadata": {
        "id": "8Ry9w9OtOFBi",
        "colab": {
          "base_uri": "https://localhost:8080/"
        },
        "outputId": "d983d335-1418-4206-944e-1a1442c71c26"
      },
      "source": [
        "# You can implement the above algorithm in any way you want.\n",
        "# One possible way:\n",
        "# - Calculate the phis here\n",
        "# - Write functions for the probability P(x|y) depending on these phis\n",
        "# - Use this function in the function spam_percentage \n",
        "\n",
        "#calculate phis \n",
        "def phi_y1 (T):\n",
        "  num = 1\n",
        "  denum = 2\n",
        "  for j in range(len(T)): \n",
        "    if T[j][1] == 1:\n",
        "      num += 1\n",
        "      denum = 2 + len(T)\n",
        "  return num/denum\n",
        "\n",
        "def phi_x_y1 (T, dict):\n",
        "  num = 1\n",
        "  denum = 2\n",
        "  phi = np.zeros(len(dict))\n",
        "  for i in range(len(dict)):\n",
        "    for j in range(len(T)):\n",
        "      if T[j][1] == 1 and T[j][0][i] == 1:\n",
        "        num +=1\n",
        "      if T[j][1] == 1:\n",
        "        denum +=1\n",
        "    phi[i] = num/denum\n",
        "  return phi\n",
        "\n",
        "def phi_x_y0 (T, dict):\n",
        "  num = 1\n",
        "  denum = 2\n",
        "  phi = np.zeros(len(dict))\n",
        "  for i in range(len(dict)):\n",
        "    for j in range(len(T)):\n",
        "      if T[j][1] == 0 and T[j][0][i] == 1:\n",
        "        num +=1\n",
        "      if T[j][1] == 1:\n",
        "        denum +=1\n",
        "    phi[i] = num/denum\n",
        "  return phi\n",
        "\n",
        "T = emails_to_test_samples(dictionary, test_emails)\n",
        "phi_y1 = phi_y1 (T)\n",
        "phi_x_y1 = phi_x_y1 (T, dictionary)\n",
        "phi_x_y0 = phi_x_y0 (T, dictionary)\n",
        "print (phi_y1) \n",
        "print (phi_x_y1)\n",
        "print (phi_x_y0)\n",
        "\n",
        "def prob_y1 (x):\n",
        "  p = 1\n",
        "  for i in range(len(x)):\n",
        "    if x[i] == 1:\n",
        "      p *= phi_x_y1[i]\n",
        "    else:\n",
        "      p *= 1 - phi_x_y1[i]\n",
        "  return p \n",
        "\n",
        "def prob_y0 (x):\n",
        "  p = 1\n",
        "  for i in range(len(x)):\n",
        "    if x[i] == 1:\n",
        "      p *= phi_x_y0[i]\n",
        "    else:\n",
        "      p *= 1 - phi_x_y0[i]\n",
        "  return p \n",
        "\n",
        "def spam_percentage(email):\n",
        "  x = email_to_feature(dictionary, email)\n",
        "  num = denum = 0\n",
        "  num += prob_y1(x)*phi_y1\n",
        "  denum += num + prob_y0(x)*(1-phi_y1)\n",
        "  return num/denum \n"
      ],
      "execution_count": null,
      "outputs": [
        {
          "output_type": "stream",
          "text": [
            "0.5\n",
            "[0.11111111 0.0625     0.04347826 0.03333333 0.02702703 0.02272727\n",
            " 0.01960784 0.01724138 0.01538462 0.01388889 0.01265823 0.01162791\n",
            " 0.01075269 0.01       0.00934579 0.00877193 0.00826446 0.0078125\n",
            " 0.00740741 0.00704225 0.00671141 0.00641026 0.00613497 0.00588235\n",
            " 0.00564972 0.00543478 0.0052356  0.00505051 0.00487805 0.00471698\n",
            " 0.00456621 0.00442478 0.00429185 0.00416667 0.00404858 0.00393701\n",
            " 0.00383142 0.00373134 0.00363636]\n",
            "[0.11111111 0.0625     0.04347826 0.03333333 0.02702703 0.02272727\n",
            " 0.01960784 0.01724138 0.01538462 0.01388889 0.01265823 0.01162791\n",
            " 0.01075269 0.01       0.00934579 0.00877193 0.00826446 0.0078125\n",
            " 0.00740741 0.00704225 0.00671141 0.00641026 0.00613497 0.00588235\n",
            " 0.00564972 0.00543478 0.0052356  0.00505051 0.00487805 0.00471698\n",
            " 0.00456621 0.00442478 0.00429185 0.00416667 0.00404858 0.00393701\n",
            " 0.00383142 0.00373134 0.00363636]\n"
          ],
          "name": "stdout"
        },
        {
          "output_type": "stream",
          "text": [
            "/usr/local/lib/python3.6/dist-packages/ipykernel_launcher.py:6: FutureWarning: elementwise comparison failed; returning scalar instead, but in the future will perform elementwise comparison\n",
            "  \n"
          ],
          "name": "stderr"
        }
      ]
    },
    {
      "cell_type": "markdown",
      "metadata": {
        "id": "d2ABCIxrT11Z"
      },
      "source": [
        "Test your spam filter with the following email.\n"
      ]
    },
    {
      "cell_type": "code",
      "metadata": {
        "id": "Zo_egC7AUYoq",
        "colab": {
          "base_uri": "https://localhost:8080/"
        },
        "outputId": "9b1ab714-d6e2-4903-b761-03e5398436c1"
      },
      "source": [
        "email=\"the sun is shining. buy drugs now\"\n",
        "email1 = \"i want to go home\"\n",
        "print(spam_percentage(email))"
      ],
      "execution_count": null,
      "outputs": [
        {
          "output_type": "stream",
          "text": [
            "0.5\n"
          ],
          "name": "stdout"
        }
      ]
    },
    {
      "cell_type": "markdown",
      "metadata": {
        "id": "82y_1mNLP6Lu"
      },
      "source": [
        "\n",
        "# **Exercise 3**\n",
        "Extend your spamfilter by creating a dynamical dictionary. Instead of starting with a fixed dictionary, you should now create a dictionary out of a list of emails. \n",
        "\n",
        "Write a function `create_dictionary(emails)` which returns a dictionary created from a list of emails (Give as an array of arrays `[text, spam\\nospam]`). Make sure that you do not include words more than once into the dictionary.\n",
        "To implement this function you should look up the function `split()` for a string in Python. To take care of the symbols \".\" and \",\" you can use the `replace()` function of a string."
      ]
    },
    {
      "cell_type": "code",
      "metadata": {
        "id": "1rvAqAkHz21D",
        "colab": {
          "base_uri": "https://localhost:8080/"
        },
        "outputId": "569202dd-fb49-49a5-91ee-e527520fe1ab"
      },
      "source": [
        "def create_dictionary(emails):\n",
        "  D = []\n",
        "  for j in range (len(emails)):\n",
        "    D += emails[j][0].split()\n",
        "  return D\n",
        "\n",
        "print (create_dictionary(test_emails))"
      ],
      "execution_count": 4,
      "outputs": [
        {
          "output_type": "stream",
          "text": [
            "['hello', 'students,', 'please', 'learn', 'for', 'the', 'exam', 'hello', 'students,', 'please', 'buy', 'drugs', 'hello,', 'today', 'the', 'sun', 'is', 'shining', 'in', 'nagoya', 'lets', 'sell', 'drugs', 'in', 'nagoya', 'today', 'learn', 'drugs', 'how', 'are', 'you', 'today?', 'hello', 'students,', 'please', 'do', 'your', 'homework', 'hello,', 'do', 'you', 'want', 'free', 'homework', 'solutions?', 'hey', 'students,', 'please', 'always', 'ask', 'questions', 'if', 'you', 'have', 'any', 'math', 'is', 'not', 'good', 'math', 'is', 'good', 'please', 'submit', 'your', 'homework', 'please', 'buy', 'questions', 'please', 'pay', 'for', 'the', 'exam']\n"
          ],
          "name": "stdout"
        }
      ]
    }
  ]
}